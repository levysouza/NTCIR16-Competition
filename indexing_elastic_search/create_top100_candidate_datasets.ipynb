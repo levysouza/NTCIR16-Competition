{
 "cells": [
  {
   "cell_type": "code",
   "execution_count": null,
   "metadata": {},
   "outputs": [],
   "source": [
    "from tqdm import tqdm\n",
    "import numpy as np\n",
    "import pandas as pd\n",
    "import random\n",
    "import gensim as gs\n",
    "from elasticsearch import Elasticsearch\n",
    "from elasticsearch import helpers\n",
    "from nltk.tokenize import TweetTokenizer\n",
    "tknzr = TweetTokenizer()\n",
    "indexing_dataset_search = Elasticsearch(timeout=30, max_retries=10, retry_on_timeout=True)\n",
    "import tensorflow as tf\n",
    "import warnings\n",
    "warnings.filterwarnings('ignore')"
   ]
  },
  {
   "cell_type": "code",
   "execution_count": null,
   "metadata": {},
   "outputs": [],
   "source": [
    "indexing_dataset_search.indices.close(index='dataset_search')\n",
    "indexing_dataset_search.indices.put_settings(index='dataset_search', body={\"index\": {\"similarity\": {\"default\": {\"type\": \"BM25\"}}}})\n",
    "indexing_dataset_search.indices.open(index='dataset_search')"
   ]
  },
  {
   "cell_type": "code",
   "execution_count": null,
   "metadata": {},
   "outputs": [],
   "source": [
    "def elasticsearch_search(query):\n",
    "    \n",
    "    result= indexing_dataset_search.search(\n",
    "        index=\"dataset_search\", \n",
    "        body = {\n",
    "        \"_source\": [\"dataset_id\",\"dataset_title\",\"dataset_description\",\"dataset_tags\"],\n",
    "        \"from\" : 0,\n",
    "        \"size\" : 100,\n",
    "        \"query\": {\n",
    "            \"multi_match\":{\n",
    "              \"type\": \"most_fields\",\n",
    "              \"query\":    query, \n",
    "              \"fields\": [\"dataset_description\"] \n",
    "            }\n",
    "        }\n",
    "    })\n",
    "    \n",
    "    return result"
   ]
  },
  {
   "cell_type": "code",
   "execution_count": null,
   "metadata": {},
   "outputs": [],
   "source": []
  },
  {
   "cell_type": "code",
   "execution_count": null,
   "metadata": {},
   "outputs": [],
   "source": [
    "train_queries = pd.read_csv('../data/final_train_queries.csv')"
   ]
  },
  {
   "cell_type": "code",
   "execution_count": null,
   "metadata": {},
   "outputs": [],
   "source": [
    "train_queries.info()"
   ]
  },
  {
   "cell_type": "code",
   "execution_count": null,
   "metadata": {},
   "outputs": [],
   "source": [
    "top_100_index = []\n",
    "\n",
    "for i,row in tqdm(train_queries.iterrows()):\n",
    "\n",
    "    query_id = row['query_id']\n",
    "    query_description = str(row['query_description'])\n",
    "\n",
    "    result = elasticsearch_search(query_description)\n",
    "    \n",
    "    return_datasets = []\n",
    "\n",
    "    for hit in result['hits']['hits']:\n",
    "\n",
    "        dataset_id = hit['_source']['dataset_id']\n",
    "        dataset_title = hit['_source']['dataset_title']\n",
    "        dataset_description = hit['_source']['dataset_description']\n",
    "        dataset_tags = hit['_source']['dataset_tags']\n",
    "\n",
    "        line = {\"label_index\":query_id,\n",
    "                \"dataset_id\":dataset_id,\n",
    "                \"dataset_title\":dataset_title,\n",
    "                \"dataset_description\":dataset_description,\n",
    "                \"dataset_tags\":dataset_tags}\n",
    "\n",
    "        top_100_index.append(line)"
   ]
  },
  {
   "cell_type": "code",
   "execution_count": null,
   "metadata": {},
   "outputs": [],
   "source": [
    "df_top100 = pd.DataFrame(top_100_index)"
   ]
  },
  {
   "cell_type": "code",
   "execution_count": null,
   "metadata": {},
   "outputs": [],
   "source": [
    "df_top100.to_csv('fixed_test_set_index_top100.csv',index=False)"
   ]
  },
  {
   "cell_type": "code",
   "execution_count": null,
   "metadata": {},
   "outputs": [],
   "source": []
  },
  {
   "cell_type": "code",
   "execution_count": null,
   "metadata": {},
   "outputs": [],
   "source": []
  },
  {
   "cell_type": "code",
   "execution_count": null,
   "metadata": {},
   "outputs": [],
   "source": []
  },
  {
   "cell_type": "code",
   "execution_count": null,
   "metadata": {},
   "outputs": [],
   "source": []
  }
 ],
 "metadata": {
  "kernelspec": {
   "display_name": "Python 3",
   "language": "python",
   "name": "python3"
  },
  "language_info": {
   "codemirror_mode": {
    "name": "ipython",
    "version": 3
   },
   "file_extension": ".py",
   "mimetype": "text/x-python",
   "name": "python",
   "nbconvert_exporter": "python",
   "pygments_lexer": "ipython3",
   "version": "3.7.3"
  }
 },
 "nbformat": 4,
 "nbformat_minor": 2
}
