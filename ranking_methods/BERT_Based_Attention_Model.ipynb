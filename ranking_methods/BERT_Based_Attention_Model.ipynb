{
 "cells": [
  {
   "cell_type": "code",
   "execution_count": null,
   "metadata": {},
   "outputs": [],
   "source": [
    "from tqdm import tqdm\n",
    "import numpy as np\n",
    "import pandas as pd\n",
    "import random\n",
    "import gensim as gs\n",
    "import tensorflow as tf\n",
    "import warnings\n",
    "\n",
    "from nltk.tokenize import TweetTokenizer\n",
    "tknzr = TweetTokenizer()\n",
    "warnings.filterwarnings('ignore')\n",
    "from sklearn.metrics import pairwise_distances\n",
    "from heapq import nsmallest\n",
    "\n",
    "from transformers import TFBertModel, BertTokenizer, TFBertMainLayer, BertConfig"
   ]
  },
  {
   "cell_type": "code",
   "execution_count": null,
   "metadata": {},
   "outputs": [],
   "source": []
  },
  {
   "cell_type": "code",
   "execution_count": null,
   "metadata": {},
   "outputs": [],
   "source": [
    "train_queries = pd.read_csv('../data/train_queries.csv')"
   ]
  },
  {
   "cell_type": "code",
   "execution_count": null,
   "metadata": {},
   "outputs": [],
   "source": [
    "train_queries.info()"
   ]
  },
  {
   "cell_type": "code",
   "execution_count": null,
   "metadata": {},
   "outputs": [],
   "source": [
    "fixed_index = pd.read_csv('../data/fixed_test_set_index_top100.csv', delimiter=',')"
   ]
  },
  {
   "cell_type": "code",
   "execution_count": null,
   "metadata": {},
   "outputs": [],
   "source": [
    "fixed_index.info()"
   ]
  },
  {
   "cell_type": "code",
   "execution_count": null,
   "metadata": {},
   "outputs": [],
   "source": []
  },
  {
   "cell_type": "code",
   "execution_count": null,
   "metadata": {},
   "outputs": [],
   "source": [
    "relevance_judgments = pd.read_csv('../data/data_search_2_e_train_qrels.txt', delimiter=\" \")\n",
    "relevance_judgments = pd.DataFrame(relevance_judgments.values, columns = [\"query_id\", \"dataset_id\", \"relevance\"])"
   ]
  },
  {
   "cell_type": "code",
   "execution_count": null,
   "metadata": {},
   "outputs": [],
   "source": []
  },
  {
   "cell_type": "code",
   "execution_count": null,
   "metadata": {},
   "outputs": [],
   "source": [
    "device_name = tf.test.gpu_device_name()\n",
    "if device_name != '/device:GPU:0':\n",
    "    raise SystemError('GPU not found')\n",
    "print('found GPU at {}'.format(device_name))"
   ]
  },
  {
   "cell_type": "code",
   "execution_count": null,
   "metadata": {},
   "outputs": [],
   "source": [
    "physical_devices = tf.config.experimental.list_physical_devices('GPU')"
   ]
  },
  {
   "cell_type": "code",
   "execution_count": null,
   "metadata": {},
   "outputs": [],
   "source": [
    "tf.config.experimental.set_memory_growth(physical_devices[0], enable=True)"
   ]
  },
  {
   "cell_type": "code",
   "execution_count": null,
   "metadata": {},
   "outputs": [],
   "source": [
    "bert_model = TFBertModel.from_pretrained(\"bert-base-cased\")\n",
    "bert_tokenizer = BertTokenizer.from_pretrained(\"bert-base-cased\")"
   ]
  },
  {
   "cell_type": "code",
   "execution_count": null,
   "metadata": {},
   "outputs": [],
   "source": []
  },
  {
   "cell_type": "code",
   "execution_count": null,
   "metadata": {},
   "outputs": [],
   "source": [
    "MAX_TOKENS = 200"
   ]
  },
  {
   "cell_type": "code",
   "execution_count": null,
   "metadata": {},
   "outputs": [],
   "source": []
  },
  {
   "cell_type": "code",
   "execution_count": null,
   "metadata": {},
   "outputs": [],
   "source": [
    "ranking_model = tf.keras.models.load_model(\"../../news_table_matching/learning_to_rank_models/bert_based_models/bert_full_model_plus_attention_TM_01_0.9845.h5\")"
   ]
  },
  {
   "cell_type": "code",
   "execution_count": null,
   "metadata": {},
   "outputs": [],
   "source": [
    "embedding_model = gs.models.FastText.load_fasttext_format('../../news_table_matching/pre_trained_models/cc.en.300.bin')"
   ]
  },
  {
   "cell_type": "code",
   "execution_count": null,
   "metadata": {},
   "outputs": [],
   "source": []
  },
  {
   "cell_type": "code",
   "execution_count": null,
   "metadata": {},
   "outputs": [],
   "source": [
    "MAX_PAD = 55\n",
    "\n",
    "def sequence_padding(X_DIM, value):\n",
    "    \n",
    "    value_padding = np.pad(value, ((0,MAX_PAD - X_DIM),(0,0)), 'constant')\n",
    "    \n",
    "    return value_padding"
   ]
  },
  {
   "cell_type": "code",
   "execution_count": null,
   "metadata": {},
   "outputs": [],
   "source": [
    "def create_embedding(value):\n",
    "\n",
    "    value = tknzr.tokenize(str(value))\n",
    "    \n",
    "    if len(value) < MAX_PAD:\n",
    "        \n",
    "        embedding = embedding_model.wv[value]\n",
    "        \n",
    "        padding_embedding = sequence_padding(embedding.shape[0],embedding)\n",
    "        \n",
    "        return padding_embedding\n",
    "        \n",
    "    else:\n",
    "        \n",
    "        embedding = embedding_model.wv[value[0:MAX_PAD]]\n",
    "        \n",
    "        return embedding"
   ]
  },
  {
   "cell_type": "code",
   "execution_count": null,
   "metadata": {},
   "outputs": [],
   "source": []
  },
  {
   "cell_type": "code",
   "execution_count": null,
   "metadata": {},
   "outputs": [],
   "source": []
  },
  {
   "cell_type": "code",
   "execution_count": null,
   "metadata": {},
   "outputs": [],
   "source": []
  },
  {
   "cell_type": "code",
   "execution_count": null,
   "metadata": {},
   "outputs": [],
   "source": [
    "def get_relevance(query_id, dataset_id):\n",
    "    \n",
    "    relevance_by_query = relevance_judgments.loc[relevance_judgments['query_id'] == query_id]\n",
    "    \n",
    "    relevance_by_dataset = relevance_by_query.loc[relevance_by_query['dataset_id'] == dataset_id]\n",
    "    \n",
    "    if relevance_by_dataset.empty:\n",
    "    \n",
    "        return 0\n",
    "    \n",
    "    else:\n",
    "    \n",
    "        relevance_jugdment = relevance_by_dataset['relevance'].values[0].replace(\"L\",\"\")\n",
    "        \n",
    "        return int(relevance_jugdment)"
   ]
  },
  {
   "cell_type": "code",
   "execution_count": null,
   "metadata": {},
   "outputs": [],
   "source": [
    "def dcg_metric(relevance,k):\n",
    "    \n",
    "    dcg = 0\n",
    "    \n",
    "    for i in range(1,k+1):\n",
    "        \n",
    "        dcg = dcg + (relevance[i-1] / np.log2(i+1))\n",
    "        \n",
    "    return dcg"
   ]
  },
  {
   "cell_type": "code",
   "execution_count": null,
   "metadata": {},
   "outputs": [],
   "source": []
  },
  {
   "cell_type": "code",
   "execution_count": null,
   "metadata": {},
   "outputs": [],
   "source": []
  },
  {
   "cell_type": "code",
   "execution_count": null,
   "metadata": {},
   "outputs": [],
   "source": [
    "result_ndcg = []\n",
    "\n",
    "for i, row in tqdm(train_queries.iterrows()):\n",
    "\n",
    "    #current article values\n",
    "    query_id = row['query_id']\n",
    "    query_description = str(row['query_description'])\n",
    "   \n",
    "    #embedding query\n",
    "    query_dataset_ids = []\n",
    "    query_dataset_mask = []\n",
    "    query_dataset_seg = []\n",
    "    \n",
    "    query_title = []\n",
    "    dataset_title = []\n",
    "    dataset_description = []\n",
    "    \n",
    "\n",
    "    #return index\n",
    "    return_index = fixed_index.loc[fixed_index['label_index'] == query_id]\n",
    "    \n",
    "\n",
    "    dataset_index = []\n",
    "    #creating embedding \n",
    "    for i, row in return_index.iterrows():\n",
    "           \n",
    "        dataset_title_text = str(row['dataset_title'])\n",
    "        dataset_description_text = str(row['dataset_description'])\n",
    "\n",
    "        #getting the bert embedding\n",
    "        return_tokenizer2 = bert_tokenizer.encode_plus(\n",
    "          query_description,\n",
    "          dataset_title_text+\" \"+dataset_description_text,\n",
    "          max_length=MAX_TOKENS,\n",
    "          add_special_tokens=True,\n",
    "          return_token_type_ids=True,\n",
    "          pad_to_max_length=True,\n",
    "          return_attention_mask=True,\n",
    "        )\n",
    "\n",
    "        #bert\n",
    "        query_dataset_ids.append(return_tokenizer2['input_ids'])\n",
    "        query_dataset_mask.append(return_tokenizer2['attention_mask'])\n",
    "        query_dataset_seg.append(return_tokenizer2['token_type_ids'])\n",
    "        \n",
    "        #fasttext embedding\n",
    "        query_title_embedding = create_embedding(query_description)\n",
    "        dataset_title_embedding = create_embedding(dataset_title_text)\n",
    "        dataset_description_embedding = create_embedding(dataset_description_text)\n",
    "\n",
    "        query_title.append(query_title_embedding)\n",
    "        dataset_title.append(dataset_title_embedding)\n",
    "        dataset_description.append(dataset_description_embedding)\n",
    "\n",
    "    \n",
    "    #bert\n",
    "    query_dataset_ids = np.array(query_dataset_ids)\n",
    "    query_dataset_mask = np.array(query_dataset_mask)\n",
    "    query_dataset_seg = np.array(query_dataset_seg)\n",
    "    \n",
    "    #fasttext\n",
    "    query_title = np.array(query_title)\n",
    "    dataset_title = np.array(dataset_title)\n",
    "    dataset_description = np.array(dataset_description)\n",
    "\n",
    "    ranking_model_by_dataset = ranking_model.predict([query_dataset_ids,query_dataset_mask,query_dataset_seg,query_title,query_title,dataset_title,dataset_description]) \n",
    "    \n",
    "    ranked_datasets_model = []\n",
    "    \n",
    "    for i in range(0,len(ranking_model_by_dataset)):\n",
    "\n",
    "        ranked_datasets_model.append([return_index.iloc[i]['dataset_id'],return_index.iloc[i]['dataset_title'],ranking_model_by_dataset[i][0]]) \n",
    "\n",
    "    data_frame = pd.DataFrame(ranked_datasets_model, columns = ['dataset_id', 'dataset_title','dataset_ranking']) \n",
    "    data_frame_sorting = data_frame.sort_values('dataset_ranking', ascending=False)\n",
    "    selected_top = data_frame_sorting.head(20)\n",
    "    \n",
    "    #getting true relevance\n",
    "    \n",
    "    true_relevance = []\n",
    "    \n",
    "    relevance_by_query = relevance_judgments.loc[relevance_judgments['query_id'] == query_id]\n",
    "    #sorting and reading the top10\n",
    "    ideal_relevance = relevance_by_query.sort_values(by=['relevance'], ascending=False).head(20)\n",
    "    \n",
    "    for i, row in ideal_relevance.iterrows():\n",
    "        \n",
    "        dataset_id = row['dataset_id']\n",
    "        value_relevance = int(row['relevance'].replace(\"L\",\"\"))\n",
    "        \n",
    "        true_relevance.append(value_relevance)\n",
    "\n",
    "    #getting the predicted relevance\n",
    "    predict_relevance = []\n",
    "    \n",
    "    for i,row in selected_top.iterrows():\n",
    "        \n",
    "        value_relevance = get_relevance(query_id,row['dataset_id'])\n",
    "    \n",
    "        predict_relevance.append(value_relevance)\n",
    "    \n",
    "    #computing NDCG\n",
    "    dcg = dcg_metric(predict_relevance, len(predict_relevance))\n",
    "    idcg = dcg_metric(true_relevance, len(true_relevance))\n",
    "    \n",
    "    if (idcg != 0):\n",
    "    \n",
    "        ndcg = dcg / idcg\n",
    "    \n",
    "    else:\n",
    "        \n",
    "        count = count + 1\n",
    "        \n",
    "        ndcg = 0\n",
    "    \n",
    "    result_ndcg.append(ndcg)"
   ]
  },
  {
   "cell_type": "code",
   "execution_count": null,
   "metadata": {},
   "outputs": [],
   "source": [
    "np.mean(result_ndcg)"
   ]
  },
  {
   "cell_type": "code",
   "execution_count": null,
   "metadata": {},
   "outputs": [],
   "source": []
  },
  {
   "cell_type": "code",
   "execution_count": null,
   "metadata": {},
   "outputs": [],
   "source": []
  },
  {
   "cell_type": "code",
   "execution_count": null,
   "metadata": {},
   "outputs": [],
   "source": []
  },
  {
   "cell_type": "code",
   "execution_count": null,
   "metadata": {},
   "outputs": [],
   "source": []
  },
  {
   "cell_type": "code",
   "execution_count": null,
   "metadata": {},
   "outputs": [],
   "source": []
  },
  {
   "cell_type": "code",
   "execution_count": null,
   "metadata": {},
   "outputs": [],
   "source": []
  },
  {
   "cell_type": "code",
   "execution_count": null,
   "metadata": {},
   "outputs": [],
   "source": []
  },
  {
   "cell_type": "code",
   "execution_count": null,
   "metadata": {},
   "outputs": [],
   "source": []
  },
  {
   "cell_type": "code",
   "execution_count": null,
   "metadata": {},
   "outputs": [],
   "source": []
  },
  {
   "cell_type": "code",
   "execution_count": null,
   "metadata": {},
   "outputs": [],
   "source": []
  },
  {
   "cell_type": "code",
   "execution_count": null,
   "metadata": {},
   "outputs": [],
   "source": []
  },
  {
   "cell_type": "code",
   "execution_count": null,
   "metadata": {},
   "outputs": [],
   "source": []
  },
  {
   "cell_type": "code",
   "execution_count": null,
   "metadata": {},
   "outputs": [],
   "source": []
  },
  {
   "cell_type": "code",
   "execution_count": null,
   "metadata": {},
   "outputs": [],
   "source": []
  },
  {
   "cell_type": "code",
   "execution_count": null,
   "metadata": {},
   "outputs": [],
   "source": []
  }
 ],
 "metadata": {
  "kernelspec": {
   "display_name": "Python 3",
   "language": "python",
   "name": "python3"
  },
  "language_info": {
   "codemirror_mode": {
    "name": "ipython",
    "version": 3
   },
   "file_extension": ".py",
   "mimetype": "text/x-python",
   "name": "python",
   "nbconvert_exporter": "python",
   "pygments_lexer": "ipython3",
   "version": "3.6.10"
  }
 },
 "nbformat": 4,
 "nbformat_minor": 2
}
