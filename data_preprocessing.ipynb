{
 "cells": [
  {
   "cell_type": "code",
   "execution_count": 1,
   "metadata": {},
   "outputs": [],
   "source": [
    "import numpy as np\n",
    "import pandas as pd\n",
    "from nltk.tokenize import TweetTokenizer\n",
    "import matplotlib.pyplot as plt\n",
    "from tqdm import tqdm\n",
    "import csv\n",
    "\n",
    "import nltk\n",
    "from nltk.corpus import stopwords\n",
    "from nltk.tokenize import word_tokenize\n",
    "stop_words = set(stopwords.words('english')) "
   ]
  },
  {
   "cell_type": "code",
   "execution_count": 2,
   "metadata": {},
   "outputs": [],
   "source": [
    "def remove_stop_words(example_sent):\n",
    "    \n",
    "    word_tokens = word_tokenize(example_sent) \n",
    "  \n",
    "    filtered_sentence = [w for w in word_tokens if not w in stop_words] \n",
    "  \n",
    "    filtered_sentence = [] \n",
    "  \n",
    "    for w in word_tokens: \n",
    "        if w not in stop_words: \n",
    "            filtered_sentence.append(w)\n",
    "    \n",
    "    formattedText = \"\"\n",
    "\n",
    "    for word in filtered_sentence:\n",
    "        \n",
    "        if (len(word)>2):\n",
    "            \n",
    "            formattedText = formattedText + \" \" +word\n",
    "    \n",
    "    \n",
    "    formattedText = formattedText.lstrip()\n",
    "    \n",
    "    formattedText = formattedText.rstrip()\n",
    "        \n",
    "    return formattedText.lower()"
   ]
  },
  {
   "cell_type": "code",
   "execution_count": 3,
   "metadata": {},
   "outputs": [],
   "source": [
    "collections_df = pd.read_json('../data/data_search_e_collection.jsonl', lines=True)"
   ]
  },
  {
   "cell_type": "code",
   "execution_count": 4,
   "metadata": {},
   "outputs": [
    {
     "name": "stdout",
     "output_type": "stream",
     "text": [
      "<class 'pandas.core.frame.DataFrame'>\n",
      "RangeIndex: 46615 entries, 0 to 46614\n",
      "Data columns (total 7 columns):\n",
      "attribution    46615 non-null object\n",
      "data           46615 non-null object\n",
      "data_fields    46615 non-null object\n",
      "description    46615 non-null object\n",
      "id             46615 non-null object\n",
      "title          46615 non-null object\n",
      "url            46615 non-null object\n",
      "dtypes: object(7)\n",
      "memory usage: 2.5+ MB\n"
     ]
    }
   ],
   "source": [
    "collections_df.info()"
   ]
  },
  {
   "cell_type": "code",
   "execution_count": 5,
   "metadata": {},
   "outputs": [
    {
     "name": "stderr",
     "output_type": "stream",
     "text": [
      "46615it [00:52, 885.34it/s]\n"
     ]
    }
   ],
   "source": [
    "all_datasets = []\n",
    "\n",
    "for i,row in tqdm(collections_df.iterrows()):\n",
    "    \n",
    "    dataset_id = row['id']\n",
    "    dataset_title = remove_stop_words(row['title'])\n",
    "    dataset_description = remove_stop_words(row['description'])\n",
    "    \n",
    "    #getting the tags\n",
    "    dataset_fields = row['data_fields']\n",
    "    \n",
    "    dataset_tags = \"\"\n",
    "    \n",
    "    for i in dataset_fields['tags']:\n",
    "        \n",
    "        dataset_tags = dataset_tags + \" \"+ i\n",
    "    \n",
    "    dataset_tags = remove_stop_words(dataset_tags)\n",
    "    \n",
    "    line = {\"dataset_id\":dataset_id,\n",
    "            \"dataset_title\":dataset_title,\n",
    "            \"dataset_description\":dataset_description,\n",
    "            \"dataset_tags\":dataset_tags\n",
    "           } \n",
    "    \n",
    "    all_datasets.append(line)"
   ]
  },
  {
   "cell_type": "code",
   "execution_count": 6,
   "metadata": {},
   "outputs": [],
   "source": [
    "df_all_datasets = pd.DataFrame(all_datasets)\n",
    "df_all_datasets.to_csv('dataset_collections_surround_text.csv',index=False)"
   ]
  },
  {
   "cell_type": "code",
   "execution_count": null,
   "metadata": {},
   "outputs": [],
   "source": []
  },
  {
   "cell_type": "code",
   "execution_count": null,
   "metadata": {},
   "outputs": [],
   "source": []
  },
  {
   "cell_type": "code",
   "execution_count": null,
   "metadata": {},
   "outputs": [],
   "source": []
  }
 ],
 "metadata": {
  "kernelspec": {
   "display_name": "Python 3",
   "language": "python",
   "name": "python3"
  },
  "language_info": {
   "codemirror_mode": {
    "name": "ipython",
    "version": 3
   },
   "file_extension": ".py",
   "mimetype": "text/x-python",
   "name": "python",
   "nbconvert_exporter": "python",
   "pygments_lexer": "ipython3",
   "version": "3.7.3"
  }
 },
 "nbformat": 4,
 "nbformat_minor": 2
}
