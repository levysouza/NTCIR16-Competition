{
 "cells": [
  {
   "cell_type": "code",
   "execution_count": 1,
   "metadata": {},
   "outputs": [],
   "source": [
    "import numpy as np\n",
    "import pandas as pd\n",
    "from nltk.tokenize import TweetTokenizer\n",
    "import matplotlib.pyplot as plt\n",
    "from tqdm import tqdm\n",
    "import csv"
   ]
  },
  {
   "cell_type": "code",
   "execution_count": 2,
   "metadata": {},
   "outputs": [],
   "source": [
    "collections_df = pd.read_json('../data/data_search_e_collection.jsonl', lines=True)"
   ]
  },
  {
   "cell_type": "code",
   "execution_count": 3,
   "metadata": {},
   "outputs": [
    {
     "name": "stdout",
     "output_type": "stream",
     "text": [
      "total of datasets = 46615\n"
     ]
    }
   ],
   "source": [
    "print(\"total of datasets = \"+str(len(collections_df)))"
   ]
  },
  {
   "cell_type": "code",
   "execution_count": 4,
   "metadata": {},
   "outputs": [
    {
     "name": "stdout",
     "output_type": "stream",
     "text": [
      "<class 'pandas.core.frame.DataFrame'>\n",
      "RangeIndex: 46615 entries, 0 to 46614\n",
      "Data columns (total 7 columns):\n",
      "attribution    46615 non-null object\n",
      "data           46615 non-null object\n",
      "data_fields    46615 non-null object\n",
      "description    46615 non-null object\n",
      "id             46615 non-null object\n",
      "title          46615 non-null object\n",
      "url            46615 non-null object\n",
      "dtypes: object(7)\n",
      "memory usage: 2.5+ MB\n"
     ]
    }
   ],
   "source": [
    "collections_df.info()"
   ]
  },
  {
   "cell_type": "markdown",
   "metadata": {},
   "source": [
    "## TRAIN DATA"
   ]
  },
  {
   "cell_type": "code",
   "execution_count": 6,
   "metadata": {},
   "outputs": [
    {
     "name": "stderr",
     "output_type": "stream",
     "text": [
      "46615it [00:15, 2982.40it/s]\n"
     ]
    }
   ],
   "source": [
    "title_lenght = []\n",
    "description_lenght = []\n",
    "\n",
    "\n",
    "tknzr = TweetTokenizer()\n",
    "\n",
    "for i,row in tqdm(collections_df.iterrows()):\n",
    "    \n",
    "    title = str(row['title'])\n",
    "    description = str(row['description'])\n",
    "\n",
    "    lenght_title = len(tknzr.tokenize(title))\n",
    "    lenght_description = len(tknzr.tokenize(description))\n",
    "\n",
    "    title_lenght.append(lenght_title)\n",
    "    description_lenght.append(lenght_description)"
   ]
  },
  {
   "cell_type": "code",
   "execution_count": null,
   "metadata": {},
   "outputs": [],
   "source": []
  },
  {
   "cell_type": "code",
   "execution_count": null,
   "metadata": {},
   "outputs": [],
   "source": []
  },
  {
   "cell_type": "code",
   "execution_count": 8,
   "metadata": {},
   "outputs": [
    {
     "name": "stdout",
     "output_type": "stream",
     "text": [
      "title analysis: - TRAIN DATA\n",
      "max words = 106\n",
      "min words = 1\n",
      "avg words = 13.803196396009868\n",
      "std words = 9.535812943518135\n",
      "\n"
     ]
    }
   ],
   "source": [
    "print('title analysis: - TRAIN DATA')\n",
    "print(\"max words = \"+str(np.max(title_lenght)))\n",
    "print(\"min words = \"+str(np.min(title_lenght)))\n",
    "print(\"avg words = \"+str(np.mean(title_lenght)))\n",
    "print(\"std words = \"+str(np.std(title_lenght)))\n",
    "print(\"\")"
   ]
  },
  {
   "cell_type": "code",
   "execution_count": 9,
   "metadata": {},
   "outputs": [
    {
     "data": {
      "image/png": "[encoded data removed]",
      "text/plain": [
       "<Figure size 432x288 with 1 Axes>"
      ]
     },
     "metadata": {
      "needs_background": "light"
     },
     "output_type": "display_data"
    }
   ],
   "source": [
    "plt.hist(title_lenght, range(0,35))\n",
    "plt.title('total of words in articles title - TRAIN DATA')\n",
    "plt.xlabel('total of words')\n",
    "plt.ylabel('total of articles (log)')\n",
    "plt.yscale('log')\n",
    "plt.savefig('article_title1.pdf')\n",
    "plt.show()"
   ]
  },
  {
   "cell_type": "code",
   "execution_count": null,
   "metadata": {},
   "outputs": [],
   "source": []
  },
  {
   "cell_type": "code",
   "execution_count": null,
   "metadata": {},
   "outputs": [],
   "source": []
  },
  {
   "cell_type": "code",
   "execution_count": 13,
   "metadata": {},
   "outputs": [
    {
     "name": "stdout",
     "output_type": "stream",
     "text": [
      "description analysis: - TRAIN DATA\n",
      "max words = 3306\n",
      "min words = 0\n",
      "avg words = 117.69125817869785\n",
      "std words = 100.90804742928448\n",
      "\n"
     ]
    }
   ],
   "source": [
    "print('description analysis: - TRAIN DATA')\n",
    "print(\"max words = \"+str(np.max(description_lenght)))\n",
    "print(\"min words = \"+str(np.min(description_lenght)))\n",
    "print(\"avg words = \"+str(np.mean(description_lenght)))\n",
    "print(\"std words = \"+str(np.std(description_lenght)))\n",
    "print(\"\")"
   ]
  },
  {
   "cell_type": "code",
   "execution_count": 16,
   "metadata": {},
   "outputs": [
    {
     "data": {
      "image/png": "[encoded data removed]",
      "text/plain": [
       "<Figure size 432x288 with 1 Axes>"
      ]
     },
     "metadata": {
      "needs_background": "light"
     },
     "output_type": "display_data"
    }
   ],
   "source": [
    "plt.hist(description_lenght, range(0,500))\n",
    "plt.title('total of words in articles description - TRAIN DATA')\n",
    "plt.xlabel('total of words')\n",
    "plt.ylabel('total of articles (log)')\n",
    "plt.yscale('log')\n",
    "plt.savefig('article_title1.pdf')\n",
    "plt.show()"
   ]
  }
 ],
 "metadata": {
  "kernelspec": {
   "display_name": "Python 3",
   "language": "python",
   "name": "python3"
  },
  "language_info": {
   "codemirror_mode": {
    "name": "ipython",
    "version": 3
   },
   "file_extension": ".py",
   "mimetype": "text/x-python",
   "name": "python",
   "nbconvert_exporter": "python",
   "pygments_lexer": "ipython3",
   "version": "3.6.10"
  }
 },
 "nbformat": 4,
 "nbformat_minor": 2
}
