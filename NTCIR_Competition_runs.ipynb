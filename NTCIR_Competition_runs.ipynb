{
 "cells": [
  {
   "cell_type": "code",
   "execution_count": null,
   "metadata": {},
   "outputs": [],
   "source": [
    "from tqdm import tqdm\n",
    "import numpy as np\n",
    "import pandas as pd\n",
    "import random\n",
    "import gensim as gs\n",
    "import tensorflow as tf\n",
    "import warnings\n",
    "\n",
    "from nltk.tokenize import TweetTokenizer\n",
    "tknzr = TweetTokenizer()\n",
    "warnings.filterwarnings('ignore')\n",
    "from sklearn.metrics import pairwise_distances\n",
    "from heapq import nsmallest\n",
    "\n",
    "from transformers import TFBertModel, BertTokenizer, TFBertMainLayer, BertConfig"
   ]
  },
  {
   "cell_type": "code",
   "execution_count": null,
   "metadata": {},
   "outputs": [],
   "source": []
  },
  {
   "cell_type": "code",
   "execution_count": null,
   "metadata": {},
   "outputs": [],
   "source": [
    "train_queries = pd.read_csv('../data/final_test_queries.csv')"
   ]
  },
  {
   "cell_type": "code",
   "execution_count": null,
   "metadata": {},
   "outputs": [],
   "source": [
    "train_queries.info()"
   ]
  },
  {
   "cell_type": "code",
   "execution_count": null,
   "metadata": {},
   "outputs": [],
   "source": [
    "fixed_index = pd.read_csv('../data/fixed_test_set_index_top100_test_queries.csv', delimiter=',')"
   ]
  },
  {
   "cell_type": "code",
   "execution_count": null,
   "metadata": {},
   "outputs": [],
   "source": [
    "fixed_index.info()"
   ]
  },
  {
   "cell_type": "code",
   "execution_count": null,
   "metadata": {},
   "outputs": [],
   "source": []
  },
  {
   "cell_type": "code",
   "execution_count": null,
   "metadata": {},
   "outputs": [],
   "source": [
    "device_name = tf.test.gpu_device_name()\n",
    "if device_name != '/device:GPU:0':\n",
    "    raise SystemError('GPU not found')\n",
    "print('found GPU at {}'.format(device_name))"
   ]
  },
  {
   "cell_type": "code",
   "execution_count": null,
   "metadata": {},
   "outputs": [],
   "source": [
    "physical_devices = tf.config.experimental.list_physical_devices('GPU')"
   ]
  },
  {
   "cell_type": "code",
   "execution_count": null,
   "metadata": {},
   "outputs": [],
   "source": [
    "tf.config.experimental.set_memory_growth(physical_devices[0], enable=True)"
   ]
  },
  {
   "cell_type": "code",
   "execution_count": null,
   "metadata": {},
   "outputs": [],
   "source": [
    "bert_model = TFBertModel.from_pretrained(\"bert-base-cased\")\n",
    "bert_tokenizer = BertTokenizer.from_pretrained(\"bert-base-cased\")"
   ]
  },
  {
   "cell_type": "code",
   "execution_count": null,
   "metadata": {},
   "outputs": [],
   "source": []
  },
  {
   "cell_type": "code",
   "execution_count": null,
   "metadata": {},
   "outputs": [],
   "source": [
    "MAX_TOKENS = 200"
   ]
  },
  {
   "cell_type": "code",
   "execution_count": null,
   "metadata": {},
   "outputs": [],
   "source": []
  },
  {
   "cell_type": "code",
   "execution_count": null,
   "metadata": {},
   "outputs": [],
   "source": [
    "ranking_model = tf.keras.models.load_model(\"../../PhD/learning_to_rank_models/bert/bert_full_model_plus_attention_TM_01_0.9845.h5\")"
   ]
  },
  {
   "cell_type": "code",
   "execution_count": null,
   "metadata": {},
   "outputs": [],
   "source": [
    "embedding_model = gs.models.FastText.load_fasttext_format('../../PhD/pre_trained_models/cc.en.300.bin')"
   ]
  },
  {
   "cell_type": "code",
   "execution_count": null,
   "metadata": {},
   "outputs": [],
   "source": []
  },
  {
   "cell_type": "code",
   "execution_count": null,
   "metadata": {},
   "outputs": [],
   "source": [
    "MAX_PAD = 55\n",
    "\n",
    "def sequence_padding(X_DIM, value):\n",
    "    \n",
    "    value_padding = np.pad(value, ((0,MAX_PAD - X_DIM),(0,0)), 'constant')\n",
    "    \n",
    "    return value_padding"
   ]
  },
  {
   "cell_type": "code",
   "execution_count": null,
   "metadata": {},
   "outputs": [],
   "source": [
    "def create_embedding(value):\n",
    "\n",
    "    value = tknzr.tokenize(str(value))\n",
    "    \n",
    "    if len(value) < MAX_PAD:\n",
    "        \n",
    "        embedding = embedding_model.wv[value]\n",
    "        \n",
    "        padding_embedding = sequence_padding(embedding.shape[0],embedding)\n",
    "        \n",
    "        return padding_embedding\n",
    "        \n",
    "    else:\n",
    "        \n",
    "        embedding = embedding_model.wv[value[0:MAX_PAD]]\n",
    "        \n",
    "        return embedding"
   ]
  },
  {
   "cell_type": "code",
   "execution_count": null,
   "metadata": {},
   "outputs": [],
   "source": []
  },
  {
   "cell_type": "code",
   "execution_count": null,
   "metadata": {},
   "outputs": [],
   "source": [
    "final_result_run = []\n",
    "\n",
    "count = 0\n",
    "\n",
    "result_ndcg = []\n",
    "\n",
    "for i, row in tqdm(train_queries.iterrows()):\n",
    "\n",
    "    #current article values\n",
    "    query_id = row['query_id']\n",
    "    query_description = str(row['query_description'])\n",
    "   \n",
    "    #embedding query\n",
    "    query_dataset_ids = []\n",
    "    query_dataset_mask = []\n",
    "    query_dataset_seg = []\n",
    "    \n",
    "    query_title = []\n",
    "    dataset_title = []\n",
    "    dataset_description = []\n",
    "    \n",
    "\n",
    "    #return index\n",
    "    return_index = fixed_index.loc[fixed_index['label_index'] == query_id]\n",
    "    \n",
    "\n",
    "    dataset_index = []\n",
    "    #creating embedding \n",
    "    for i, row in return_index.iterrows():\n",
    "           \n",
    "        dataset_title_text = str(row['dataset_title'])\n",
    "        dataset_description_text = str(row['dataset_description'])\n",
    "\n",
    "        #getting the bert embedding\n",
    "        return_tokenizer2 = bert_tokenizer.encode_plus(\n",
    "          query_description,\n",
    "          dataset_title_text+\" \"+dataset_description_text,\n",
    "          max_length=MAX_TOKENS,\n",
    "          add_special_tokens=True,\n",
    "          return_token_type_ids=True,\n",
    "          pad_to_max_length=True,\n",
    "          return_attention_mask=True,\n",
    "        )\n",
    "\n",
    "        #bert\n",
    "        query_dataset_ids.append(return_tokenizer2['input_ids'])\n",
    "        query_dataset_mask.append(return_tokenizer2['attention_mask'])\n",
    "        query_dataset_seg.append(return_tokenizer2['token_type_ids'])\n",
    "        \n",
    "        #fasttext embedding\n",
    "        query_title_embedding = create_embedding(query_description)\n",
    "        dataset_title_embedding = create_embedding(dataset_title_text)\n",
    "        dataset_description_embedding = create_embedding(dataset_description_text)\n",
    "\n",
    "        query_title.append(query_title_embedding)\n",
    "        dataset_title.append(dataset_title_embedding)\n",
    "        dataset_description.append(dataset_description_embedding)\n",
    "\n",
    "    \n",
    "    #bert\n",
    "    query_dataset_ids = np.array(query_dataset_ids)\n",
    "    query_dataset_mask = np.array(query_dataset_mask)\n",
    "    query_dataset_seg = np.array(query_dataset_seg)\n",
    "    \n",
    "    #fasttext\n",
    "    query_title = np.array(query_title)\n",
    "    dataset_title = np.array(dataset_title)\n",
    "    dataset_description = np.array(dataset_description)\n",
    "\n",
    "    ranking_model_by_dataset = ranking_model.predict([query_dataset_ids,query_dataset_mask,query_dataset_seg,query_title,query_title,dataset_title,dataset_description]) \n",
    "    \n",
    "    ranked_datasets_model = []\n",
    "    \n",
    "    for i in range(0,len(ranking_model_by_dataset)):\n",
    "\n",
    "        ranked_datasets_model.append([return_index.iloc[i]['dataset_id'],return_index.iloc[i]['dataset_title'],ranking_model_by_dataset[i][0]]) \n",
    "\n",
    "    data_frame = pd.DataFrame(ranked_datasets_model, columns = ['dataset_id', 'dataset_title','dataset_ranking']) \n",
    "    data_frame_sorting = data_frame.sort_values('dataset_ranking', ascending=False)\n",
    "    selected_top = data_frame_sorting.head(50)\n",
    "    \n",
    "    \n",
    "    count = 1\n",
    "    #creating the final result file\n",
    "    \n",
    "    for i, row in selected_top.iterrows():\n",
    "        \n",
    "        dataset_id = row['dataset_id']\n",
    "        dataset_score = row['dataset_ranking']\n",
    "        \n",
    "        final_result_run.append([query_id,0,dataset_id,count,dataset_score])\n",
    "        \n",
    "        count = count + 1"
   ]
  },
  {
   "cell_type": "code",
   "execution_count": null,
   "metadata": {},
   "outputs": [],
   "source": []
  },
  {
   "cell_type": "code",
   "execution_count": null,
   "metadata": {},
   "outputs": [],
   "source": [
    "for i in final_result_run:\n",
    "    print(i[0]+\" \"+str(i[1])+\" \"+str(i[2])+\" \"+str(i[3])+\" \"+str(i[4])+\" \"+\"NYUCIN-E-1\")"
   ]
  },
  {
   "cell_type": "code",
   "execution_count": null,
   "metadata": {},
   "outputs": [],
   "source": []
  }
 ],
 "metadata": {
  "kernelspec": {
   "display_name": "Python 3",
   "language": "python",
   "name": "python3"
  },
  "language_info": {
   "codemirror_mode": {
    "name": "ipython",
    "version": 3
   },
   "file_extension": ".py",
   "mimetype": "text/x-python",
   "name": "python",
   "nbconvert_exporter": "python",
   "pygments_lexer": "ipython3",
   "version": "3.7.3"
  }
 },
 "nbformat": 4,
 "nbformat_minor": 2
}
